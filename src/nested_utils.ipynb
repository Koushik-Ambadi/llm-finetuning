{
 "cells": [
  {
   "cell_type": "code",
   "execution_count": 1,
   "id": "98f175f8-5bb7-4587-804a-e18dfbb0c19b",
   "metadata": {},
   "outputs": [],
   "source": [
    "import pandas as pd\n",
    "import ast"
   ]
  },
  {
   "cell_type": "code",
   "execution_count": 7,
   "id": "faed6a74-c7a4-40e6-b1ff-76802894d85b",
   "metadata": {},
   "outputs": [],
   "source": [
    "def parse_column(df, column_name):\n",
    "    \"\"\"\n",
    "    Returns a new DataFrame with non-null rows from `column_name`,\n",
    "    parsing the column safely into lists of dicts.\n",
    "    Does NOT modify the original DataFrame.\n",
    "    \"\"\"\n",
    "    def _parse(x):\n",
    "        if pd.isna(x):\n",
    "            return x\n",
    "        if isinstance(x, str):\n",
    "            try:\n",
    "                parsed = ast.literal_eval(x)\n",
    "            except (SyntaxError, ValueError):\n",
    "                return x  # return as-is if parsing fails\n",
    "        else:\n",
    "            parsed = x\n",
    "\n",
    "        if isinstance(parsed, dict):\n",
    "            return [parsed]  # wrap single dict into list\n",
    "        return parsed\n",
    "\n",
    "    # Only operate on rows where the column is not null\n",
    "    valid_dataframe = df[df[column_name].notna()].copy()\n",
    "    valid_dataframe[column_name] = valid_dataframe[column_name].apply(_parse)\n",
    "    return valid_dataframe\n"
   ]
  },
  {
   "cell_type": "code",
   "execution_count": 8,
   "id": "f31c3833-be43-4de1-bd66-163626644a6d",
   "metadata": {},
   "outputs": [],
   "source": [
    "import pandas as pd\n",
    "\n",
    "def normalize_column(valid_dataframe, column_name, id_column='file_name'):\n",
    "    \"\"\"\n",
    "    Extracts list-of-dict entries from a parsed column into flat rows,\n",
    "    tagging each with its associated ID (like file_name).\n",
    "    Prints a quick summary of how many unique IDs are present before and after.\n",
    "    \"\"\"\n",
    "    extracted_rows = []\n",
    "\n",
    "    for _, row in valid_dataframe.iterrows():\n",
    "        item_id = row[id_column]\n",
    "        params = row[column_name]\n",
    "\n",
    "        if isinstance(params, list):\n",
    "            for param in params:\n",
    "                if isinstance(param, dict):\n",
    "                    param_copy = param.copy()\n",
    "                    param_copy[id_column] = item_id\n",
    "                    extracted_rows.append(param_copy)\n",
    "\n",
    "    normalized_df = pd.DataFrame(extracted_rows)\n",
    "\n",
    "    # === Print summary of normalization ===\n",
    "    input_count = valid_dataframe[id_column].nunique()\n",
    "    output_count = normalized_df[id_column].nunique()\n",
    "    print(f\"[NORMALIZED] {output_count} unique `{id_column}` values (from {input_count} in input)\")\n",
    "\n",
    "    return normalized_df\n",
    "\n",
    "\n",
    "\n"
   ]
  },
  {
   "cell_type": "code",
   "execution_count": 4,
   "id": "1786e467-916c-4872-b2cf-bd30ad1b5d1d",
   "metadata": {},
   "outputs": [],
   "source": [
    "def clean_column(normalized_df,column_name, cols_to_drop=[], id_column='file_name'):\n",
    "    \"\"\"\n",
    "    Clean extracted parameter DataFrame:\n",
    "    - Drop unwanted columns\n",
    "    - Group back into list-of-dicts per id_column\n",
    "    \"\"\"\n",
    "    if cols_to_drop: \n",
    "        normalized_df = normalized_df.drop(columns=[c for c in cols_to_drop if c in normalized_df.columns])\n",
    "\n",
    "\n",
    "    # Group and convert to list-of-dicts\n",
    "    grouped_df = (\n",
    "        normalized_df\n",
    "        .groupby(id_column)\n",
    "        .apply(lambda g: g.drop(columns=id_column).to_dict(orient='records'))\n",
    "        .reset_index(name=f'Cleaned{column_name}')\n",
    "    )\n",
    "\n",
    "    return grouped_df\n"
   ]
  },
  {
   "cell_type": "code",
   "execution_count": 9,
   "id": "197bb9c5-3ec5-42b1-99c4-101a64ed3075",
   "metadata": {},
   "outputs": [],
   "source": [
    "def merge_df(df, grouped_df,column_name, id_column='file_name'):\n",
    "    \"\"\"\n",
    "    Merge the cleaned parameter list back into the original DataFrame.\n",
    "    Dynamically detects the cleaned column name from grouped_df.\n",
    "    Drops the original nested column before merging.\n",
    "    \"\"\"\n",
    "    # Drop the original column if it exists\n",
    "    #df = df.drop(column_name)\n",
    "\n",
    "    # Merge the cleaned column back into the main DataFrame\n",
    "    df = df.drop(columns=[column_name], errors='ignore')  # drop old column if exists\n",
    "    df = df.merge(grouped_df, on=id_column, how='left')\n",
    "    return df\n",
    "\n",
    "\n"
   ]
  },
  {
   "cell_type": "code",
   "execution_count": 10,
   "id": "8c20160a-97dc-4f7a-a6bd-e915945d5a90",
   "metadata": {},
   "outputs": [],
   "source": [
    "def pipeline(df, column_name, id_column='file_name', cols_to_drop=None):\n",
    "    \"\"\"\n",
    "    Full pipeline: parse, expand, clean, and merge parameter column.\n",
    "    \"\"\"\n",
    "    df = parse_parameter_column(df, column_name)\n",
    "    param_df = extract_parameter_dicts(df, column_name, id_column=id_column)\n",
    "    cleaned_df = clean_parameter_df(param_df, id_column=id_column, cols_to_drop=cols_to_drop)\n",
    "    df = merge_cleaned_parameters(df, cleaned_df, id_column=id_column, column_name=column_name)\n",
    "    return df\n"
   ]
  },
  {
   "cell_type": "code",
   "execution_count": null,
   "id": "43d5cfcf-694a-4ee2-b857-8a2a9c97f438",
   "metadata": {},
   "outputs": [],
   "source": []
  },
  {
   "cell_type": "code",
   "execution_count": null,
   "id": "1c474c92-d024-4c6f-b768-29c79916440c",
   "metadata": {},
   "outputs": [],
   "source": []
  },
  {
   "cell_type": "code",
   "execution_count": null,
   "id": "00d0bcb7-0e07-40f2-884c-46206ddc1bd6",
   "metadata": {},
   "outputs": [],
   "source": []
  }
 ],
 "metadata": {
  "kernelspec": {
   "display_name": "Python (myenv)",
   "language": "python",
   "name": "myenv"
  },
  "language_info": {
   "codemirror_mode": {
    "name": "ipython",
    "version": 3
   },
   "file_extension": ".py",
   "mimetype": "text/x-python",
   "name": "python",
   "nbconvert_exporter": "python",
   "pygments_lexer": "ipython3",
   "version": "3.9.0"
  }
 },
 "nbformat": 4,
 "nbformat_minor": 5
}
