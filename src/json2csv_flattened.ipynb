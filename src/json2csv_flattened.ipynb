{
 "cells": [
  {
   "cell_type": "code",
   "execution_count": 8,
   "id": "60e5a7ed-19f9-4530-bede-e4541f712810",
   "metadata": {},
   "outputs": [],
   "source": [
    "import os\n",
    "import json\n",
    "import pandas as pd\n",
    "from pathlib import Path\n",
    "\n",
    "input_folder = \"../data/raw_dataset\"\n",
    "output_csv = \"../data/flat_dataset/merged_output.csv\"\n",
    "\n",
    "all_data = []\n",
    "\n",
    "for filename in os.listdir(input_folder):\n",
    "    if filename.endswith(\".json\"):\n",
    "        filepath = os.path.join(input_folder, filename)\n",
    "        with open(filepath, 'r', encoding='utf-8') as f:\n",
    "            data = json.load(f)\n",
    "        if isinstance(data, dict):\n",
    "            data = [data]\n",
    "\n",
    "        # Flatten one level deep\n",
    "        flattened = []\n",
    "        for item in data:\n",
    "            flat_item = {}\n",
    "            for key, value in item.items():\n",
    "                if isinstance(value, dict):\n",
    "                    for sub_key, sub_value in value.items():\n",
    "                        flat_item[f\"{key}.{sub_key}\"] = sub_value\n",
    "                else:\n",
    "                    flat_item[key] = value\n",
    "            flat_item[\"file_name\"] = Path(filename).stem\n",
    "            flattened.append(flat_item)\n",
    "\n",
    "        df = pd.DataFrame(flattened)\n",
    "        all_data.append(df)\n",
    "\n",
    "merged_df = pd.concat(all_data, ignore_index=True)\n",
    "merged_df.to_csv(output_csv, index=False)\n"
   ]
  },
  {
   "cell_type": "code",
   "execution_count": null,
   "id": "20c89b57-57ba-4690-af03-f02a5da2fb9e",
   "metadata": {},
   "outputs": [],
   "source": []
  },
  {
   "cell_type": "code",
   "execution_count": null,
   "id": "90fd13d7-5a98-4fa7-b881-f29ce8fee063",
   "metadata": {},
   "outputs": [],
   "source": []
  }
 ],
 "metadata": {
  "kernelspec": {
   "display_name": "Python (myenv)",
   "language": "python",
   "name": "myenv"
  },
  "language_info": {
   "codemirror_mode": {
    "name": "ipython",
    "version": 3
   },
   "file_extension": ".py",
   "mimetype": "text/x-python",
   "name": "python",
   "nbconvert_exporter": "python",
   "pygments_lexer": "ipython3",
   "version": "3.9.0"
  }
 },
 "nbformat": 4,
 "nbformat_minor": 5
}
